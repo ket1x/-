{
 "cells": [
  {
   "cell_type": "markdown",
   "metadata": {},
   "source": [
    "# Задача 23\n",
    "Диск радиусом R, находившийся в состоянии покоя, начал вращаться с постоянным угловым ускорением w0. Найдите нормальное и тангенциальное ускорение точек окружности диска через t после начала движения.<br>\n",
    "Решение:"
   ]
  },
  {
   "cell_type": "markdown",
   "metadata": {},
   "source": [
    "![](23.jpg)"
   ]
  },
  {
   "cell_type": "code",
   "execution_count": 5,
   "metadata": {},
   "outputs": [
    {
     "name": "stdout",
     "output_type": "stream",
     "text": [
      "Введите R\n",
      "1\n",
      "Введите w0\n",
      "1\n",
      "Введите E\n",
      "1\n",
      "Введите t\n",
      "1\n",
      "Нормальное ускорение an =  4.0\n",
      "Тангенциальное ускорение at =  1.0\n"
     ]
    }
   ],
   "source": [
    "print(\"Введите R\")\n",
    "R = int(input())\n",
    "print(\"Введите w0\")\n",
    "wo = int(input())\n",
    "print(\"Введите E\")\n",
    "E = int(input())\n",
    "print(\"Введите t\")\n",
    "t = int(input())\n",
    "an = (float(E) * int(t) + int(wo)) ** 2 * float(R)\n",
    "at = float(E) * float(R)\n",
    "print(\"Нормальное ускорение an = \",an)\n",
    "print(\"Тангенциальное ускорение at = \",at)"
   ]
  }
 ],
 "metadata": {
  "kernelspec": {
   "display_name": "Python 3",
   "language": "python",
   "name": "python3"
  },
  "language_info": {
   "codemirror_mode": {
    "name": "ipython",
    "version": 3
   },
   "file_extension": ".py",
   "mimetype": "text/x-python",
   "name": "python",
   "nbconvert_exporter": "python",
   "pygments_lexer": "ipython3",
   "version": "3.7.4"
  }
 },
 "nbformat": 4,
 "nbformat_minor": 2
}
